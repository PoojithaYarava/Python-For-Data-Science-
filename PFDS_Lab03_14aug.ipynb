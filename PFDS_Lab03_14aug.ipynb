{
  "nbformat": 4,
  "nbformat_minor": 0,
  "metadata": {
    "colab": {
      "provenance": [],
      "authorship_tag": "ABX9TyNBBS8JYCSU6SMVs+eQ5gUI",
      "include_colab_link": true
    },
    "kernelspec": {
      "name": "python3",
      "display_name": "Python 3"
    },
    "language_info": {
      "name": "python"
    }
  },
  "cells": [
    {
      "cell_type": "markdown",
      "metadata": {
        "id": "view-in-github",
        "colab_type": "text"
      },
      "source": [
        "<a href=\"https://colab.research.google.com/github/PoojithaYarava/Python-For-Data-Science-/blob/main/PFDS_Lab03_14aug.ipynb\" target=\"_parent\"><img src=\"https://colab.research.google.com/assets/colab-badge.svg\" alt=\"Open In Colab\"/></a>"
      ]
    },
    {
      "cell_type": "markdown",
      "source": [
        "Matrix Addition and Subtraction"
      ],
      "metadata": {
        "id": "-gKphf1q071Y"
      }
    },
    {
      "cell_type": "code",
      "source": [
        "#Create two 3x3 NumPy arrays with random integers\n",
        "import numpy as np\n",
        "array1 = np.random.randint(10, size=(3, 3))\n",
        "array2 = np.random.randint(10, size=(3, 3))"
      ],
      "metadata": {
        "id": "5K26ymKV1BE3"
      },
      "execution_count": 1,
      "outputs": []
    },
    {
      "cell_type": "code",
      "source": [
        "#Perform element-wise addition and subtraction\n",
        "addition_result = array1 + array2\n",
        "subtraction_result = array1 - array2\n",
        "#Display original matrices and results\n",
        "print(\"Array 1:\")\n",
        "print(array1)\n",
        "print(\"\\nArray 2:\")\n",
        "print(array2)\n",
        "print(\"\\nAddition Result:\")\n",
        "print(addition_result)\n",
        "print(\"\\nSubtraction Result:\")\n",
        "print(subtraction_result)"
      ],
      "metadata": {
        "colab": {
          "base_uri": "https://localhost:8080/"
        },
        "id": "jht2Ua1J1qSr",
        "outputId": "846715ea-a8e4-4d06-d877-e60edddd4864"
      },
      "execution_count": 3,
      "outputs": [
        {
          "output_type": "stream",
          "name": "stdout",
          "text": [
            "Array 1:\n",
            "[[3 6 9]\n",
            " [0 2 3]\n",
            " [6 2 9]]\n",
            "\n",
            "Array 2:\n",
            "[[9 3 1]\n",
            " [9 2 7]\n",
            " [5 1 1]]\n",
            "\n",
            "Addition Result:\n",
            "[[12  9 10]\n",
            " [ 9  4 10]\n",
            " [11  3 10]]\n",
            "\n",
            "Subtraction Result:\n",
            "[[-6  3  8]\n",
            " [-9  0 -4]\n",
            " [ 1  1  8]]\n"
          ]
        }
      ]
    },
    {
      "cell_type": "code",
      "source": [
        "#Use functions like np.add() and np.subtract()\n",
        "addition_result_np = np.add(array1, array2)\n",
        "subtraction_result_np = np.subtract(array1, array2)\n",
        "print(\"\\nAddition Result (NumPy):\")\n",
        "print(addition_result_np)\n",
        "print(\"\\nSubtraction Result (NumPy):\")\n",
        "print(subtraction_result_np)"
      ],
      "metadata": {
        "colab": {
          "base_uri": "https://localhost:8080/"
        },
        "id": "fiCOX8S02HZ3",
        "outputId": "316d85e8-dec4-40a1-cede-69a784e0641b"
      },
      "execution_count": 5,
      "outputs": [
        {
          "output_type": "stream",
          "name": "stdout",
          "text": [
            "\n",
            "Addition Result (NumPy):\n",
            "[[12  9 10]\n",
            " [ 9  4 10]\n",
            " [11  3 10]]\n",
            "\n",
            "Subtraction Result (NumPy):\n",
            "[[-6  3  8]\n",
            " [-9  0 -4]\n",
            " [ 1  1  8]]\n"
          ]
        }
      ]
    },
    {
      "cell_type": "code",
      "source": [
        "#Verify operation using manual calculation for one element\n",
        "element_to_verify = array1[0, 0] + array2[0, 0]\n",
        "print(\"\\nElement to Verify:\")\n",
        "print(element_to_verify)"
      ],
      "metadata": {
        "colab": {
          "base_uri": "https://localhost:8080/"
        },
        "id": "eQSJ_AnZ2gCJ",
        "outputId": "15796204-41e2-403d-86d6-a805c9fc371a"
      },
      "execution_count": 6,
      "outputs": [
        {
          "output_type": "stream",
          "name": "stdout",
          "text": [
            "\n",
            "Element to Verify:\n",
            "12\n"
          ]
        }
      ]
    },
    {
      "cell_type": "markdown",
      "source": [
        "2.2D Matrix Multiplication (Dot Product)"
      ],
      "metadata": {
        "id": "L2j8qdRx3A49"
      }
    },
    {
      "cell_type": "code",
      "source": [
        "#Create two compatible 2D arrays (e.g., 3x2 and 2x3)\n",
        "import numpy as np\n",
        "array3 = np.random.randint(10, size=(3, 2))\n",
        "array4 = np.random.randint(10, size=(2, 3))"
      ],
      "metadata": {
        "id": "YrUQ1u2M20ZI"
      },
      "execution_count": 7,
      "outputs": []
    },
    {
      "cell_type": "code",
      "source": [
        "#Use np.dot() or @ operator to perform dot product\n",
        "result_dot = np.dot(array3, array4)\n",
        "result_at = array3 @ array4"
      ],
      "metadata": {
        "id": "K5XdcXzj3jAh"
      },
      "execution_count": 8,
      "outputs": []
    },
    {
      "cell_type": "code",
      "source": [
        "#Print intermediate and final results\n",
        "print(\"Array 3:\")\n",
        "print(array3)\n",
        "print(\"\\nArray 4:\")\n",
        "print(array4)\n",
        "print(\"\\nDot Product Result:\")\n",
        "print(result_dot)\n",
        "print(\"\\n@ Operator Result:\")\n",
        "print(result_at)"
      ],
      "metadata": {
        "colab": {
          "base_uri": "https://localhost:8080/"
        },
        "id": "Z8FjKnfz3ozL",
        "outputId": "2a0852d7-f9d0-4bee-d9c7-bab5ac62b2c9"
      },
      "execution_count": 9,
      "outputs": [
        {
          "output_type": "stream",
          "name": "stdout",
          "text": [
            "Array 3:\n",
            "[[1 2]\n",
            " [6 2]\n",
            " [5 0]]\n",
            "\n",
            "Array 4:\n",
            "[[0 3 9]\n",
            " [5 7 8]]\n",
            "\n",
            "Dot Product Result:\n",
            "[[10 17 25]\n",
            " [10 32 70]\n",
            " [ 0 15 45]]\n",
            "\n",
            "@ Operator Result:\n",
            "[[10 17 25]\n",
            " [10 32 70]\n",
            " [ 0 15 45]]\n"
          ]
        }
      ]
    },
    {
      "cell_type": "code",
      "source": [
        "#visualize matrices using matplotlib\n",
        "import matplotlib.pyplot as plt\n",
        "plt.figure(figsize=(10, 5))\n",
        "plt.subplot(1, 2, 1)\n",
        "plt.imshow(array3, cmap='viridis', aspect='auto')\n",
        "plt.title('Array 3')\n",
        "plt.colorbar()\n",
        "plt"
      ],
      "metadata": {
        "colab": {
          "base_uri": "https://localhost:8080/",
          "height": 485
        },
        "id": "3Sm9YA9s3wZJ",
        "outputId": "bdca8df3-698a-46bb-f9aa-5d39fb8884c4"
      },
      "execution_count": 11,
      "outputs": [
        {
          "output_type": "execute_result",
          "data": {
            "text/plain": [
              "<module 'matplotlib.pyplot' from '/usr/local/lib/python3.11/dist-packages/matplotlib/pyplot.py'>"
            ]
          },
          "metadata": {},
          "execution_count": 11
        },
        {
          "output_type": "display_data",
          "data": {
            "text/plain": [
              "<Figure size 1000x500 with 2 Axes>"
            ],
            "image/png": "[encoded data removed]"
          },
          "metadata": {}
        }
      ]
    }
  ]
}
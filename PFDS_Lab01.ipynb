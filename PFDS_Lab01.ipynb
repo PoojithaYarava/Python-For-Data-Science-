{
  "nbformat": 4,
  "nbformat_minor": 0,
  "metadata": {
    "colab": {
      "provenance": [],
      "authorship_tag": "ABX9TyNcDmuE3G3qFaGXIpO9Ph7y",
      "include_colab_link": true
    },
    "kernelspec": {
      "name": "python3",
      "display_name": "Python 3"
    },
    "language_info": {
      "name": "python"
    }
  },
  "cells": [
    {
      "cell_type": "markdown",
      "metadata": {
        "id": "view-in-github",
        "colab_type": "text"
      },
      "source": [
        "<a href=\"https://colab.research.google.com/github/PoojithaYarava/Python-For-Data-Science-/blob/main/PFDS_Lab01.ipynb\" target=\"_parent\"><img src=\"https://colab.research.google.com/assets/colab-badge.svg\" alt=\"Open In Colab\"/></a>"
      ]
    },
    {
      "cell_type": "markdown",
      "source": [
        "\n",
        "1.Recursive Call Stack Visualization\n"
      ],
      "metadata": {
        "id": "EnRS6zIXUYRs"
      }
    },
    {
      "cell_type": "markdown",
      "metadata": {
        "id": "4c558495"
      },
      "source": [
        "## Define the recursive factorial function\n",
        "\n",
        "Write a Python function that calculates the factorial of a number recursively.\n"
      ]
    },
    {
      "cell_type": "code",
      "metadata": {
        "id": "610d4481"
      },
      "source": [
        "def factorial(n):\n",
        "  \"\"\"Calculates the factorial of a non-negative integer recursively.\"\"\"\n",
        "  if n == 0 or n == 1:\n",
        "    return 1\n",
        "  else:\n",
        "    return n * factorial(n - 1)"
      ],
      "execution_count": 1,
      "outputs": []
    },
    {
      "cell_type": "markdown",
      "metadata": {
        "id": "4d9f85d1"
      },
      "source": [
        "## Implement tracing logic"
      ]
    },
    {
      "cell_type": "code",
      "metadata": {
        "id": "5001e9e6"
      },
      "source": [
        "def factorial(n, depth=0):\n",
        "  \"\"\"Calculates the factorial of a non-negative integer recursively with visualization.\"\"\"\n",
        "  indent = \"  \" * depth\n",
        "  print(f\"{indent}Calling factorial({n})\")\n",
        "  if n == 0 or n == 1:\n",
        "    print(f\"{indent}Returning 1 for factorial({n})\")\n",
        "    return 1\n",
        "  else:\n",
        "    result = n * factorial(n - 1, depth + 1)\n",
        "    print(f\"{indent}Returning {result} for factorial({n})\")\n",
        "    return result"
      ],
      "execution_count": 9,
      "outputs": []
    },
    {
      "cell_type": "markdown",
      "metadata": {
        "id": "de6fd9ac"
      },
      "source": [
        "\n",
        "Implement a loop to repeatedly prompt the user for input until a valid number within the range [0, 10] is entered.\n",
        "\n"
      ]
    },
    {
      "cell_type": "code",
      "metadata": {
        "colab": {
          "base_uri": "https://localhost:8080/"
        },
        "id": "1f366e85",
        "outputId": "7f3c4318-a3a6-4eff-eba8-1fb8066ece56"
      },
      "source": [
        "while True:\n",
        "    try:\n",
        "        num_str = input(\"Enter a small non-negative integer (up to 10): \")\n",
        "        num = int(num_str)\n",
        "        if 0 <= num <= 10:\n",
        "            break\n",
        "        else:\n",
        "            print(\"Input out of range. Please enter a number between 0 and 10.\")\n",
        "    except ValueError:\n",
        "        print(\"Invalid input. Please enter an integer.\")"
      ],
      "execution_count": 6,
      "outputs": [
        {
          "name": "stdout",
          "output_type": "stream",
          "text": [
            "Enter a small non-negative integer (up to 10): 5\n"
          ]
        }
      ]
    },
    {
      "cell_type": "markdown",
      "source": [
        "Highlight base and recursive cases clearly"
      ],
      "metadata": {
        "id": "Uor42R1EZ-8n"
      }
    },
    {
      "cell_type": "code",
      "source": [
        "def factorial(n, depth=0):\n",
        "  \"\"\"Calculates the factorial of a non-negative integer recursively with visualization.\"\"\"\n",
        "  indent = \"  \" * depth\n",
        "  print(f\"{indent}Calling factorial({n})\")\n",
        "  if n == 0 or n == 1:\n",
        "    print(f\"{indent}--- Base case reached for factorial({n}) ---\") # Highlight base case\n",
        "    print(f\"{indent}Returning 1 for factorial({n})\")\n",
        "    return 1\n",
        "  else:\n",
        "    print(f\"{indent}--- Recursive step for factorial({n}) ---\") # Highlight recursive step\n",
        "    result = n * factorial(n - 1, depth + 1)\n",
        "    print(f\"{indent}Returning {result} for factorial({n})\")\n",
        "    return result"
      ],
      "metadata": {
        "id": "MM7UCW_-ZdRI"
      },
      "execution_count": 8,
      "outputs": []
    },
    {
      "cell_type": "markdown",
      "source": [
        "2.Compare Recursive vs Iterative Approaches"
      ],
      "metadata": {
        "id": "9ZwKqNl9aJMu"
      }
    },
    {
      "cell_type": "markdown",
      "source": [
        "Implement both recursive and iterative factorial functions"
      ],
      "metadata": {
        "id": "vgTkoIW4bw61"
      }
    },
    {
      "cell_type": "code",
      "metadata": {
        "id": "bae2a69b"
      },
      "source": [
        "def recursive_factorial(n):\n",
        "  \"\"\"Calculates the factorial of a non-negative integer recursively.\"\"\"\n",
        "  if n == 0 or n == 1:\n",
        "    return 1\n",
        "  else:\n",
        "    return n * recursive_factorial(n - 1)"
      ],
      "execution_count": 10,
      "outputs": []
    },
    {
      "cell_type": "code",
      "metadata": {
        "id": "d6c72d8c"
      },
      "source": [
        "def iterative_factorial(n):\n",
        "  \"\"\"Calculates the factorial of a non-negative integer iteratively.\"\"\"\n",
        "  result = 1\n",
        "  for i in range(1, n + 1):\n",
        "    result *= i\n",
        "  return result"
      ],
      "execution_count": 11,
      "outputs": []
    },
    {
      "cell_type": "markdown",
      "metadata": {
        "id": "8bbf4779"
      },
      "source": [
        "## Handle edge and invalid inputs\n",
        "\n",
        "### Subtask:\n",
        "Add error handling for edge cases (like 0 and 1) and invalid inputs (like negative numbers or non-integers) for both functions.\n"
      ]
    },
    {
      "cell_type": "markdown",
      "metadata": {
        "id": "1d2f19e8"
      },
      "source": [
        "**Reasoning**:\n",
        "Modify both the recursive and iterative factorial functions to include error handling for non-integer or negative inputs as specified in the instructions.\n",
        "\n"
      ]
    },
    {
      "cell_type": "code",
      "metadata": {
        "id": "d6db2af6"
      },
      "source": [
        "def recursive_factorial(n):\n",
        "  \"\"\"Calculates the factorial of a non-negative integer recursively with error handling.\"\"\"\n",
        "  if not isinstance(n, int) or n < 0:\n",
        "    raise ValueError(\"Input must be a non-negative integer.\")\n",
        "  if n == 0 or n == 1:\n",
        "    return 1\n",
        "  else:\n",
        "    return n * recursive_factorial(n - 1)\n",
        "\n",
        "def iterative_factorial(n):\n",
        "  \"\"\"Calculates the factorial of a non-negative integer iteratively with error handling.\"\"\"\n",
        "  if not isinstance(n, int) or n < 0:\n",
        "    raise ValueError(\"Input must be a non-negative integer.\")\n",
        "  result = 1\n",
        "  for i in range(1, n + 1):\n",
        "    result *= i\n",
        "  return result"
      ],
      "execution_count": 12,
      "outputs": []
    },
    {
      "cell_type": "markdown",
      "metadata": {
        "id": "c8322d0d"
      },
      "source": [
        "## Measure execution time\n",
        "\n",
        "### Subtask:\n",
        "Use the `time` module to measure the execution time of both the recursive and iterative functions for various inputs.\n"
      ]
    },
    {
      "cell_type": "markdown",
      "metadata": {
        "id": "a3b41cc7"
      },
      "source": [
        "**Reasoning**:\n",
        "Import the time module and set up the test inputs.\n",
        "\n"
      ]
    },
    {
      "cell_type": "code",
      "metadata": {
        "id": "a7f6ab7a"
      },
      "source": [
        "import time\n",
        "\n",
        "test_inputs = [5, 10, 20, 30]"
      ],
      "execution_count": 13,
      "outputs": []
    },
    {
      "cell_type": "markdown",
      "metadata": {
        "id": "8f3dddcd"
      },
      "source": [
        "**Reasoning**:\n",
        "Iterate through the test inputs, measure the execution time for both functions, and print the results.\n",
        "\n"
      ]
    },
    {
      "cell_type": "code",
      "metadata": {
        "colab": {
          "base_uri": "https://localhost:8080/"
        },
        "id": "4d96c7f2",
        "outputId": "e2e45c95-7dca-4c2a-8c1b-93ad19c10ca2"
      },
      "source": [
        "print(\"Input | Recursive Time (s) | Iterative Time (s)\")\n",
        "print(\"------|--------------------|--------------------\")\n",
        "\n",
        "for num in test_inputs:\n",
        "    # Measure recursive function time\n",
        "    start_time_rec = time.time()\n",
        "    recursive_factorial(num)\n",
        "    end_time_rec = time.time()\n",
        "    rec_time = end_time_rec - start_time_rec\n",
        "\n",
        "    # Measure iterative function time\n",
        "    start_time_iter = time.time()\n",
        "    iterative_factorial(num)\n",
        "    end_time_iter = time.time()\n",
        "    iter_time = end_time_iter - start_time_iter\n",
        "\n",
        "    print(f\"{num:<5} | {rec_time:<18.6f} | {iter_time:<18.6f}\")"
      ],
      "execution_count": 14,
      "outputs": [
        {
          "output_type": "stream",
          "name": "stdout",
          "text": [
            "Input | Recursive Time (s) | Iterative Time (s)\n",
            "------|--------------------|--------------------\n",
            "5     | 0.000005           | 0.000003          \n",
            "10    | 0.000003           | 0.000002          \n",
            "20    | 0.000005           | 0.000002          \n",
            "30    | 0.000009           | 0.000003          \n"
          ]
        }
      ]
    },
    {
      "cell_type": "markdown",
      "metadata": {
        "id": "3e7d4be8"
      },
      "source": [
        " Display results"
      ]
    },
    {
      "cell_type": "code",
      "metadata": {
        "colab": {
          "base_uri": "https://localhost:8080/"
        },
        "id": "6e07f8bd",
        "outputId": "daf4f49e-5f95-40a4-be48-89fdf175945f"
      },
      "source": [
        "print(\"Input | Recursive Time (s) | Iterative Time (s)\")\n",
        "print(\"------|--------------------|--------------------\")"
      ],
      "execution_count": 16,
      "outputs": [
        {
          "output_type": "stream",
          "name": "stdout",
          "text": [
            "Input | Recursive Time (s) | Iterative Time (s)\n",
            "------|--------------------|--------------------\n"
          ]
        }
      ]
    },
    {
      "cell_type": "code",
      "metadata": {
        "colab": {
          "base_uri": "https://localhost:8080/"
        },
        "id": "4ff21de8",
        "outputId": "0991db59-d0a0-4b9a-e16b-77307189511e"
      },
      "source": [
        "test_inputs = [5, 10, 20, 30] # Assuming test_inputs is defined in a previous cell\n",
        "\n",
        "for num in test_inputs:\n",
        "    # Measure recursive function time\n",
        "    start_time_rec = time.time()\n",
        "    recursive_factorial(num)\n",
        "    end_time_rec = time.time()\n",
        "    rec_time = end_time_rec - start_time_rec\n",
        "\n",
        "    # Measure iterative function time\n",
        "    start_time_iter = time.time()\n",
        "    iterative_factorial(num)\n",
        "    end_time_iter = time.time()\n",
        "    iter_time = end_time_iter - start_time_iter\n",
        "\n",
        "    print(f\"{num:<5} | {rec_time:<18.6f} | {iter_time:<18.6f}\")"
      ],
      "execution_count": 17,
      "outputs": [
        {
          "output_type": "stream",
          "name": "stdout",
          "text": [
            "5     | 0.000003           | 0.000002          \n",
            "10    | 0.000004           | 0.000003          \n",
            "20    | 0.000007           | 0.000004          \n",
            "30    | 0.000011           | 0.000003          \n"
          ]
        }
      ]
    }
  ]
}
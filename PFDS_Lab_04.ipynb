{
  "nbformat": 4,
  "nbformat_minor": 0,
  "metadata": {
    "colab": {
      "provenance": [],
      "authorship_tag": "ABX9TyMRS+w35Q62ZPK7+fWD3WYR",
      "include_colab_link": true
    },
    "kernelspec": {
      "name": "python3",
      "display_name": "Python 3"
    },
    "language_info": {
      "name": "python"
    }
  },
  "cells": [
    {
      "cell_type": "markdown",
      "metadata": {
        "id": "view-in-github",
        "colab_type": "text"
      },
      "source": [
        "<a href=\"https://colab.research.google.com/github/PoojithaYarava/Python-For-Data-Science-/blob/main/PFDS_Lab_04.ipynb\" target=\"_parent\"><img src=\"https://colab.research.google.com/assets/colab-badge.svg\" alt=\"Open In Colab\"/></a>"
      ]
    },
    {
      "cell_type": "markdown",
      "source": [
        "1.Student Marks Analysis"
      ],
      "metadata": {
        "id": "vFolbcy3wOaQ"
      }
    },
    {
      "cell_type": "code",
      "source": [
        "import csv\n",
        "\n",
        "# Data\n",
        "students = [\n",
        "    {\"Student_ID\": 1, \"Name\": \"John\", \"Math\": 85, \"Science\": 90, \"English\": 78},\n",
        "    {\"Student_ID\": 2, \"Name\": \"Alice\", \"Math\": 92, \"Science\": 88, \"English\": 95},\n",
        "    {\"Student_ID\": 3, \"Name\": \"Ravi\", \"Math\": 76, \"Science\": 84, \"English\": 80},\n",
        "    {\"Student_ID\": 4, \"Name\": \"Priya\", \"Math\": 95, \"Science\": 92, \"English\": 88},\n",
        "    {\"Student_ID\": 5, \"Name\": \"Rahul\", \"Math\": 88, \"Science\": 76, \"English\": 92},\n",
        "]\n",
        "\n",
        "# Writing to CSV\n",
        "with open(\"student_scores.csv\", \"w\", newline=\"\") as file:\n",
        "    writer = csv.DictWriter(file, fieldnames=[\"Student_ID\", \"Name\", \"Math\", \"Science\", \"English\"])\n",
        "    writer.writeheader()\n",
        "    writer.writerows(students)\n",
        "\n",
        "print(\"student_scores.csv created successfully!\")\n"
      ],
      "metadata": {
        "colab": {
          "base_uri": "https://localhost:8080/"
        },
        "id": "EFgFBmnqzA6r",
        "outputId": "1c2fb603-6d39-4d99-e96b-86f279e50491"
      },
      "execution_count": 2,
      "outputs": [
        {
          "output_type": "stream",
          "name": "stdout",
          "text": [
            "student_scores.csv created successfully!\n"
          ]
        }
      ]
    },
    {
      "cell_type": "markdown",
      "source": [
        "Read the CSV file"
      ],
      "metadata": {
        "id": "kdvFjdP02MYW"
      }
    },
    {
      "cell_type": "code",
      "metadata": {
        "id": "0c0e576c"
      },
      "source": [
        "import pandas as pd\n",
        "\n",
        "# Read the CSV file into a pandas DataFrame\n",
        "df = pd.read_csv(\"student_scores.csv\")"
      ],
      "execution_count": 6,
      "outputs": []
    },
    {
      "cell_type": "markdown",
      "source": [
        " Handle Missing Values (fill missing marks with column mean)"
      ],
      "metadata": {
        "id": "CIbVfvW72OML"
      }
    },
    {
      "cell_type": "code",
      "source": [
        "df_filled = df.fillna(df.mean(numeric_only=True))\n",
        "\n",
        "print(\"Data after filling missing marks with mean values:\")\n",
        "print(df_filled, \"\\n\")"
      ],
      "metadata": {
        "colab": {
          "base_uri": "https://localhost:8080/"
        },
        "id": "h9nCh00z2GJD",
        "outputId": "6662fae1-ee39-449b-d827-75c0e64dcff5"
      },
      "execution_count": 7,
      "outputs": [
        {
          "output_type": "stream",
          "name": "stdout",
          "text": [
            "Data after filling missing marks with mean values:\n",
            "   Student_ID   Name  Math  Science  English\n",
            "0           1   John    85       90       78\n",
            "1           2  Alice    92       88       95\n",
            "2           3   Ravi    76       84       80\n",
            "3           4  Priya    95       92       88\n",
            "4           5  Rahul    88       76       92 \n",
            "\n"
          ]
        }
      ]
    },
    {
      "cell_type": "markdown",
      "source": [
        " Filter High Achievers (Average >= 75)"
      ],
      "metadata": {
        "id": "0X4GqBVa3dAh"
      }
    },
    {
      "cell_type": "code",
      "source": [
        "df_filled[\"Total\"] = df_filled[[\"Math\", \"Science\", \"English\"]].sum(axis=1)\n",
        "df_filled[\"Average\"] = df_filled[[\"Math\", \"Science\", \"English\"]].mean(axis=1)\n",
        "\n",
        "high_achievers = df_filled[df_filled[\"Average\"] >= 75]\n",
        "\n",
        "print(\"High Achievers:\")\n",
        "print(high_achievers, \"\\n\")\n"
      ],
      "metadata": {
        "colab": {
          "base_uri": "https://localhost:8080/"
        },
        "id": "FgqjdGoB2XKM",
        "outputId": "ea3b979d-709a-403b-d84e-76791667edb5"
      },
      "execution_count": 9,
      "outputs": [
        {
          "output_type": "stream",
          "name": "stdout",
          "text": [
            "High Achievers:\n",
            "   Student_ID   Name  Math  Science  English  Total    Average\n",
            "0           1   John    85       90       78    253  84.333333\n",
            "1           2  Alice    92       88       95    275  91.666667\n",
            "2           3   Ravi    76       84       80    240  80.000000\n",
            "3           4  Priya    95       92       88    275  91.666667\n",
            "4           5  Rahul    88       76       92    256  85.333333 \n",
            "\n"
          ]
        }
      ]
    },
    {
      "cell_type": "markdown",
      "source": [
        "2.Hospital Patient Records"
      ],
      "metadata": {
        "id": "rJ_Y0gsx30-5"
      }
    },
    {
      "cell_type": "code",
      "source": [
        "import csv\n",
        "\n",
        "# Sample patient records\n",
        "patients = [\n",
        "    {\"Patient_ID\": 1, \"Name\": \"Anita\", \"Age\": 68, \"Gender\": \"Female\", \"Diagnosis\": \"Diabetes\", \"Admission_Date\": \"2023-05-14\"},\n",
        "    {\"Patient_ID\": 2, \"Name\": \"Raj\", \"Age\": 72, \"Gender\": \"Male\", \"Diagnosis\": \"Hypertension\", \"Admission_Date\": \"2023-06-20\"},\n",
        "    {\"Patient_ID\": 3, \"Name\": \"Sneha\", \"Age\": 59, \"Gender\": \"Female\", \"Diagnosis\": \"Asthma\", \"Admission_Date\": \"2023-07-01\"},\n",
        "    {\"Patient_ID\": 4, \"Name\": \"Lata\", \"Age\": 82, \"Gender\": \"Female\", \"Diagnosis\": \"Diabetes\", \"Admission_Date\": \"2023-05-22\"},\n",
        "    {\"Patient_ID\": 5, \"Name\": \"John\", \"Age\": 65, \"Gender\": \"Male\", \"Diagnosis\": \"Diabetes\", \"Admission_Date\": \"2023-04-18\"},\n",
        "    {\"Patient_ID\": 6, \"Name\": \"Pooja\", \"Age\": 75, \"Gender\": \"Female\", \"Diagnosis\": \"Diabetes\", \"Admission_Date\": \"2023-06-11\"},\n",
        "    {\"Patient_ID\": 7, \"Name\": \"Amit\", \"Age\": 60, \"Gender\": \"Male\", \"Diagnosis\": \"Heart Disease\", \"Admission_Date\": \"2023-08-02\"},\n",
        "    {\"Patient_ID\": 8, \"Name\": \"Meena\", \"Age\": None, \"Gender\": \" Female \", \"Diagnosis\": None, \"Admission_Date\": \"2023-07-15\"}, # missing values\n",
        "]\n",
        "\n",
        "# Write to CSV\n",
        "with open(\"patients.csv\", \"w\", newline=\"\") as file:\n",
        "    writer = csv.DictWriter(file, fieldnames=[\"Patient_ID\", \"Name\", \"Age\", \"Gender\", \"Diagnosis\", \"Admission_Date\"])\n",
        "    writer.writeheader()\n",
        "    writer.writerows(patients)\n",
        "\n",
        "print(\" patients.csv file created successfully!\")\n"
      ],
      "metadata": {
        "colab": {
          "base_uri": "https://localhost:8080/"
        },
        "id": "Q_VNRynZ4L7a",
        "outputId": "6570397f-ee97-4339-fb85-abb329ccb5f4"
      },
      "execution_count": 11,
      "outputs": [
        {
          "output_type": "stream",
          "name": "stdout",
          "text": [
            " patients.csv file created successfully!\n"
          ]
        }
      ]
    },
    {
      "cell_type": "markdown",
      "source": [
        "Load the dataset"
      ],
      "metadata": {
        "id": "NUqExCx54t-z"
      }
    },
    {
      "cell_type": "code",
      "source": [
        "df = pd.read_csv(\"patients.csv\")"
      ],
      "metadata": {
        "id": "5DnBBfbT480G"
      },
      "execution_count": 12,
      "outputs": []
    },
    {
      "cell_type": "markdown",
      "source": [
        "Replace missing Age values with median"
      ],
      "metadata": {
        "id": "zqPkqw3I5HiI"
      }
    },
    {
      "cell_type": "code",
      "source": [
        "df[\"Age\"] = df[\"Age\"].fillna(df[\"Age\"].median())\n",
        "df[\"Diagnosis\"] = df[\"Diagnosis\"].fillna(\"Unknown\")\n",
        "df[\"Gender\"] = df[\"Gender\"].str.strip().str.capitalize()\n",
        "\n",
        "print(\"Cleaned Data:\")\n",
        "print(df, \"\\n\")"
      ],
      "metadata": {
        "colab": {
          "base_uri": "https://localhost:8080/"
        },
        "id": "kBTEcJNO5Mdn",
        "outputId": "0d3f44bf-5cbb-4ee4-e610-0e6c1ff0f5fd"
      },
      "execution_count": 13,
      "outputs": [
        {
          "output_type": "stream",
          "name": "stdout",
          "text": [
            "Cleaned Data:\n",
            "   Patient_ID   Name   Age  Gender      Diagnosis Admission_Date\n",
            "0           1  Anita  68.0  Female       Diabetes     2023-05-14\n",
            "1           2    Raj  72.0    Male   Hypertension     2023-06-20\n",
            "2           3  Sneha  59.0  Female         Asthma     2023-07-01\n",
            "3           4   Lata  82.0  Female       Diabetes     2023-05-22\n",
            "4           5   John  65.0    Male       Diabetes     2023-04-18\n",
            "5           6  Pooja  75.0  Female       Diabetes     2023-06-11\n",
            "6           7   Amit  60.0    Male  Heart Disease     2023-08-02\n",
            "7           8  Meena  68.0  Female        Unknown     2023-07-15 \n",
            "\n"
          ]
        }
      ]
    },
    {
      "cell_type": "markdown",
      "source": [
        "Filter female patients aged above 50 diagnosed with Diabetes"
      ],
      "metadata": {
        "id": "7FWNj_W56dPh"
      }
    },
    {
      "cell_type": "code",
      "source": [
        "filtered_patients = df[\n",
        "    (df[\"Age\"] > 50) &\n",
        "    (df[\"Gender\"].str.strip().str.capitalize() == \"Female\") &\n",
        "    (df[\"Diagnosis\"].str.lower() == \"diabetes\")\n",
        "]"
      ],
      "metadata": {
        "id": "NS-afEss6krS"
      },
      "execution_count": 14,
      "outputs": []
    },
    {
      "cell_type": "code",
      "source": [
        "print(\"Female patients aged above 50 with Diabetes:\")\n",
        "print(filtered_patients, \"\\n\")\n",
        "\n",
        "# Step 4: Save results into new CSV\n",
        "filtered_patients.to_csv(\"female_diabetes_above50.csv\", index=False)\n",
        "\n",
        "print(\"✅ Filtered data saved to 'female_diabetes_above50.csv'\")"
      ],
      "metadata": {
        "colab": {
          "base_uri": "https://localhost:8080/"
        },
        "id": "rk8uQf416u-V",
        "outputId": "cb3f16a7-1a57-4ab7-9b3b-7dd284c9da5f"
      },
      "execution_count": 16,
      "outputs": [
        {
          "output_type": "stream",
          "name": "stdout",
          "text": [
            "Female patients aged above 50 with Diabetes:\n",
            "   Patient_ID   Name   Age  Gender Diagnosis Admission_Date\n",
            "0           1  Anita  68.0  Female  Diabetes     2023-05-14\n",
            "3           4   Lata  82.0  Female  Diabetes     2023-05-22\n",
            "5           6  Pooja  75.0  Female  Diabetes     2023-06-11 \n",
            "\n",
            "✅ Filtered data saved to 'female_diabetes_above50.csv'\n"
          ]
        }
      ]
    }
  ]
}